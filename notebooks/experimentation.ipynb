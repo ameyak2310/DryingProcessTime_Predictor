{
 "cells": [
  {
   "cell_type": "code",
   "execution_count": 46,
   "metadata": {},
   "outputs": [],
   "source": [
    "import pandas as pd\n",
    "import numpy as np\n",
    "import seaborn as sns\n",
    "import matplotlib.pyplot as plt\n",
    "import warnings\n",
    "warnings.filterwarnings('ignore')"
   ]
  },
  {
   "attachments": {},
   "cell_type": "markdown",
   "metadata": {},
   "source": [
    "Data Ingestions"
   ]
  },
  {
   "cell_type": "code",
   "execution_count": 47,
   "metadata": {},
   "outputs": [
    {
     "name": "stdout",
     "output_type": "stream",
     "text": [
      "<class 'pandas.core.frame.DataFrame'>\n",
      "RangeIndex: 560 entries, 0 to 559\n",
      "Data columns (total 44 columns):\n",
      " #   Column          Non-Null Count  Dtype  \n",
      "---  ------          --------------  -----  \n",
      " 0   Sr. No.         558 non-null    float64\n",
      " 1   Year            558 non-null    float64\n",
      " 2   Author          558 non-null    object \n",
      " 3   Exp             558 non-null    float64\n",
      " 4   Data            558 non-null    float64\n",
      " 5   Vel             558 non-null    float64\n",
      " 6   Temp            560 non-null    float64\n",
      " 7   RH              558 non-null    float64\n",
      " 8   hours           560 non-null    float64\n",
      " 9   Fit             558 non-null    float64\n",
      " 10  Variety         558 non-null    object \n",
      " 11  Technique       558 non-null    object \n",
      " 12  Pretreatment    558 non-null    object \n",
      " 13  P_temp          558 non-null    object \n",
      " 14  P_time          558 non-null    object \n",
      " 15  kg_r            9 non-null      object \n",
      " 16  kg_m            560 non-null    float64\n",
      " 17  Diff_r          0 non-null      float64\n",
      " 18  Diff_m          559 non-null    float64\n",
      " 19  Do              558 non-null    float64\n",
      " 20  TD              558 non-null    float64\n",
      " 21  alpha           558 non-null    float64\n",
      " 22  aLR             558 non-null    float64\n",
      " 23  aRL             558 non-null    float64\n",
      " 24  mwR             558 non-null    object \n",
      " 25  Density         557 non-null    float64\n",
      " 26  Berry Count     557 non-null    float64\n",
      " 27  Radius          557 non-null    float64\n",
      " 28  Dry_Mass        557 non-null    float64\n",
      " 29  Weight_i        557 non-null    float64\n",
      " 30  Vol_i           557 non-null    float64\n",
      " 31  Water_i         557 non-null    float64\n",
      " 32  MR_i            557 non-null    float64\n",
      " 33  MC_i            557 non-null    float64\n",
      " 34  MC_i.1          557 non-null    float64\n",
      " 35  Weight_f        557 non-null    float64\n",
      " 36  Vol_f           557 non-null    float64\n",
      " 37  Water_f         557 non-null    float64\n",
      " 38  MC_eq_Lit       557 non-null    float64\n",
      " 39  MC_eq_Lit.1     557 non-null    float64\n",
      " 40  MR_f            557 non-null    float64\n",
      " 41  MC_f            557 non-null    float64\n",
      " 42  MC_f.1          557 non-null    float64\n",
      " 43  Pretreatment.1  550 non-null    object \n",
      "dtypes: float64(35), object(9)\n",
      "memory usage: 192.6+ KB\n"
     ]
    }
   ],
   "source": [
    "path = r'../data/intrim/LiteratureData_20220809.csv'\n",
    "df_org = pd.read_csv(path, encoding= 'unicode_escape')\n",
    "df = df_org.copy()\n",
    "df.info()"
   ]
  },
  {
   "cell_type": "code",
   "execution_count": 49,
   "metadata": {},
   "outputs": [
    {
     "data": {
      "text/plain": [
       "Index(['Sr. No.', 'Year', 'Author', 'Exp', 'Data', 'Vel', 'Temp', 'RH',\n",
       "       'hours', 'Fit', 'Variety', 'Technique', 'Pretreatment', 'P_temp',\n",
       "       'P_time', 'kg_r', 'kg_m', 'Diff_r', 'Diff_m', 'Do', 'TD', 'alpha',\n",
       "       'aLR', 'aRL', 'mwR', 'Density', 'Berry Count', 'Radius', 'Dry_Mass',\n",
       "       'Weight_i', 'Vol_i', 'Water_i', 'MR_i', 'MC_i', 'MC_i.1', 'Weight_f',\n",
       "       'Vol_f', 'Water_f', 'MC_eq_Lit', 'MC_eq_Lit.1', 'MR_f', 'MC_f',\n",
       "       'MC_f.1', 'Pretreatment.1'],\n",
       "      dtype='object')"
      ]
     },
     "execution_count": 49,
     "metadata": {},
     "output_type": "execute_result"
    }
   ],
   "source": [
    "df.columns"
   ]
  },
  {
   "cell_type": "code",
   "execution_count": 85,
   "metadata": {},
   "outputs": [],
   "source": [
    "features_categorical = ['Variety', 'Technique', 'Pretreatment',] \n",
    "features_numerical = ['Vel', 'Temp', 'P_temp', 'P_time',] #'RH',]\n",
    "target = ['hours']"
   ]
  },
  {
   "cell_type": "code",
   "execution_count": 86,
   "metadata": {},
   "outputs": [
    {
     "name": "stdout",
     "output_type": "stream",
     "text": [
      "<class 'pandas.core.frame.DataFrame'>\n",
      "Index: 558 entries, 0 to 557\n",
      "Data columns (total 8 columns):\n",
      " #   Column        Non-Null Count  Dtype  \n",
      "---  ------        --------------  -----  \n",
      " 0   Variety       558 non-null    object \n",
      " 1   Technique     558 non-null    object \n",
      " 2   Pretreatment  558 non-null    object \n",
      " 3   Vel           558 non-null    float64\n",
      " 4   Temp          558 non-null    float64\n",
      " 5   P_temp        558 non-null    float64\n",
      " 6   P_time        558 non-null    float64\n",
      " 7   hours         558 non-null    float64\n",
      "dtypes: float64(5), object(3)\n",
      "memory usage: 39.2+ KB\n"
     ]
    }
   ],
   "source": [
    "df = df[features_categorical + features_numerical + target]\n",
    "df.info()"
   ]
  },
  {
   "cell_type": "code",
   "execution_count": 87,
   "metadata": {},
   "outputs": [
    {
     "name": "stdout",
     "output_type": "stream",
     "text": [
      "<class 'pandas.core.frame.DataFrame'>\n",
      "Index: 558 entries, 0 to 557\n",
      "Data columns (total 8 columns):\n",
      " #   Column        Non-Null Count  Dtype  \n",
      "---  ------        --------------  -----  \n",
      " 0   Variety       558 non-null    object \n",
      " 1   Technique     558 non-null    object \n",
      " 2   Pretreatment  558 non-null    object \n",
      " 3   Vel           558 non-null    float64\n",
      " 4   Temp          558 non-null    float64\n",
      " 5   P_temp        558 non-null    float64\n",
      " 6   P_time        558 non-null    float64\n",
      " 7   hours         558 non-null    float64\n",
      "dtypes: float64(5), object(3)\n",
      "memory usage: 39.2+ KB\n"
     ]
    }
   ],
   "source": [
    "df['P_temp'].replace(to_replace=dict(Untreated=25.001, NotApplicable = 25.001), inplace=True)\n",
    "df['P_time'].replace(to_replace=dict(Untreated=0.0001, NotApplicable = 25.001), inplace=True)\n",
    "df['P_temp'] = df['P_temp'].astype(float)\n",
    "df['P_time'] = df['P_time'].astype(float)\n",
    "df.dropna(inplace=True)\n",
    "df.info()"
   ]
  },
  {
   "cell_type": "code",
   "execution_count": 88,
   "metadata": {},
   "outputs": [],
   "source": [
    "X = pd.get_dummies(data=df[features_categorical + features_numerical ],\n",
    "                   columns=features_categorical).dropna()\n",
    "y = df[target].dropna()"
   ]
  },
  {
   "cell_type": "code",
   "execution_count": 89,
   "metadata": {},
   "outputs": [
    {
     "data": {
      "text/plain": [
       "Index(['Vel', 'Temp', 'P_temp', 'P_time', 'Variety_Aledo', 'Variety_Asgari',\n",
       "       'Variety_Black', 'Variety_Centennial', 'Variety_Chasselas',\n",
       "       'Variety_Crimson', 'Variety_Delight', 'Variety_Emerald',\n",
       "       'Variety_Flame', 'Variety_Globe', 'Variety_Italia', 'Variety_Monukka',\n",
       "       'Variety_Monukka ', 'Variety_Muscatel', 'Variety_Nevado',\n",
       "       'Variety_Perlette', 'Variety_Red', 'Variety_Rodi', 'Variety_Ruby',\n",
       "       'Variety_Seeded', 'Variety_Sugraone', 'Variety_Tempranillo',\n",
       "       'Variety_Thomson', 'Variety_Tunisian', 'Variety_Unreported',\n",
       "       'Technique_ConMic', 'Technique_Convective', 'Technique_Dark',\n",
       "       'Technique_Fluidized bed', 'Technique_MicroWave', 'Technique_Open Sun',\n",
       "       'Technique_Shade', 'Pretreatment_Chemical',\n",
       "       'Pretreatment_Chemical + Microwave', 'Pretreatment_Cryogenic',\n",
       "       'Pretreatment_Electric', 'Pretreatment_Freezing',\n",
       "       'Pretreatment_Hot Air', 'Pretreatment_Microwave', 'Pretreatment_Ohmic',\n",
       "       'Pretreatment_Physical', 'Pretreatment_Plasma',\n",
       "       'Pretreatment_Untreated'],\n",
       "      dtype='object')"
      ]
     },
     "execution_count": 89,
     "metadata": {},
     "output_type": "execute_result"
    }
   ],
   "source": [
    "X.columns"
   ]
  },
  {
   "attachments": {},
   "cell_type": "markdown",
   "metadata": {},
   "source": [
    "Trian Test Split"
   ]
  },
  {
   "cell_type": "code",
   "execution_count": 93,
   "metadata": {},
   "outputs": [],
   "source": [
    "from sklearn.model_selection import train_test_split\n",
    "X_train, X_test, y_train, y_test = train_test_split(X,\n",
    "                                                    y,\n",
    "                                                    train_size=0.8,\n",
    "                                                    random_state=0)"
   ]
  },
  {
   "attachments": {},
   "cell_type": "markdown",
   "metadata": {},
   "source": [
    "Base Model"
   ]
  },
  {
   "cell_type": "code",
   "execution_count": 94,
   "metadata": {},
   "outputs": [
    {
     "name": "stdout",
     "output_type": "stream",
     "text": [
      "Training accuracy: 0.7472\n",
      "Testing accuracy:  0.2733\n"
     ]
    }
   ],
   "source": [
    "from sklearn.linear_model import LinearRegression\n",
    "model = LinearRegression()\n",
    "reg_lin = model.fit(X_train, y_train)\n",
    "y_pred = reg_lin.predict(X_test)\n",
    "\n",
    "from sklearn.metrics import r2_score\n",
    "print(\"Training accuracy: {:.4f}\".format(r2_score(y_train, reg_lin.predict(X_train))))\n",
    "print(\"Testing accuracy:  {:.4f}\".format(r2_score(y_test , reg_lin.predict(X_test))))\n"
   ]
  },
  {
   "attachments": {},
   "cell_type": "markdown",
   "metadata": {},
   "source": [
    "Random forrest "
   ]
  },
  {
   "cell_type": "code",
   "execution_count": 104,
   "metadata": {},
   "outputs": [
    {
     "name": "stdout",
     "output_type": "stream",
     "text": [
      "Training accuracy: 0.8986\n",
      "Testing accuracy:  0.7224\n"
     ]
    }
   ],
   "source": [
    "from sklearn.ensemble import RandomForestRegressor\n",
    "model = RandomForestRegressor(max_depth=10,\n",
    "                              n_estimators=10,\n",
    "                              criterion='absolute_error')\n",
    "reg_rf = model.fit(X_train, y_train)\n",
    "y_pred = reg_rf.predict(X_test)\n",
    "\n",
    "from sklearn.metrics import r2_score\n",
    "print(\"Training accuracy: {:.4f}\".format(r2_score(y_train, reg_rf.predict(X_train))))\n",
    "print(\"Testing accuracy:  {:.4f}\".format(r2_score(y_test , reg_rf.predict(X_test))))"
   ]
  }
 ],
 "metadata": {
  "kernelspec": {
   "display_name": ".venv",
   "language": "python",
   "name": "python3"
  },
  "language_info": {
   "codemirror_mode": {
    "name": "ipython",
    "version": 3
   },
   "file_extension": ".py",
   "mimetype": "text/x-python",
   "name": "python",
   "nbconvert_exporter": "python",
   "pygments_lexer": "ipython3",
   "version": "3.8.10"
  },
  "orig_nbformat": 4
 },
 "nbformat": 4,
 "nbformat_minor": 2
}
