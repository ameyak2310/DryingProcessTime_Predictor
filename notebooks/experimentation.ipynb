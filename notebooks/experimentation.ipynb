{
 "cells": [
  {
   "cell_type": "code",
   "execution_count": 172,
   "metadata": {},
   "outputs": [],
   "source": [
    "import pandas as pd\n",
    "import numpy as np\n",
    "import seaborn as sns\n",
    "import matplotlib.pyplot as plt\n",
    "import warnings\n",
    "warnings.filterwarnings('ignore')"
   ]
  },
  {
   "attachments": {},
   "cell_type": "markdown",
   "metadata": {},
   "source": [
    "Data Ingestions"
   ]
  },
  {
   "cell_type": "code",
   "execution_count": 173,
   "metadata": {},
   "outputs": [
    {
     "name": "stdout",
     "output_type": "stream",
     "text": [
      "<class 'pandas.core.frame.DataFrame'>\n",
      "RangeIndex: 560 entries, 0 to 559\n",
      "Data columns (total 44 columns):\n",
      " #   Column          Non-Null Count  Dtype  \n",
      "---  ------          --------------  -----  \n",
      " 0   Sr. No.         558 non-null    float64\n",
      " 1   Year            558 non-null    float64\n",
      " 2   Author          558 non-null    object \n",
      " 3   Exp             558 non-null    float64\n",
      " 4   Data            558 non-null    float64\n",
      " 5   Vel             558 non-null    float64\n",
      " 6   Temp            560 non-null    float64\n",
      " 7   RH              558 non-null    float64\n",
      " 8   hours           560 non-null    float64\n",
      " 9   Fit             558 non-null    float64\n",
      " 10  Variety         558 non-null    object \n",
      " 11  Technique       558 non-null    object \n",
      " 12  Pretreatment    558 non-null    object \n",
      " 13  P_temp          558 non-null    object \n",
      " 14  P_time          558 non-null    object \n",
      " 15  kg_r            9 non-null      object \n",
      " 16  kg_m            560 non-null    float64\n",
      " 17  Diff_r          0 non-null      float64\n",
      " 18  Diff_m          559 non-null    float64\n",
      " 19  Do              558 non-null    float64\n",
      " 20  TD              558 non-null    float64\n",
      " 21  alpha           558 non-null    float64\n",
      " 22  aLR             558 non-null    float64\n",
      " 23  aRL             558 non-null    float64\n",
      " 24  mwR             558 non-null    object \n",
      " 25  Density         557 non-null    float64\n",
      " 26  Berry Count     557 non-null    float64\n",
      " 27  Radius          557 non-null    float64\n",
      " 28  Dry_Mass        557 non-null    float64\n",
      " 29  Weight_i        557 non-null    float64\n",
      " 30  Vol_i           557 non-null    float64\n",
      " 31  Water_i         557 non-null    float64\n",
      " 32  MR_i            557 non-null    float64\n",
      " 33  MC_i            557 non-null    float64\n",
      " 34  MC_i.1          557 non-null    float64\n",
      " 35  Weight_f        557 non-null    float64\n",
      " 36  Vol_f           557 non-null    float64\n",
      " 37  Water_f         557 non-null    float64\n",
      " 38  MC_eq_Lit       557 non-null    float64\n",
      " 39  MC_eq_Lit.1     557 non-null    float64\n",
      " 40  MR_f            557 non-null    float64\n",
      " 41  MC_f            557 non-null    float64\n",
      " 42  MC_f.1          557 non-null    float64\n",
      " 43  Pretreatment.1  550 non-null    object \n",
      "dtypes: float64(35), object(9)\n",
      "memory usage: 192.6+ KB\n"
     ]
    }
   ],
   "source": [
    "path = r'../data/intrim/LiteratureData_20220809.csv'\n",
    "df_org = pd.read_csv(path, encoding= 'unicode_escape')\n",
    "df = df_org.copy()\n",
    "df.info()"
   ]
  },
  {
   "cell_type": "code",
   "execution_count": 174,
   "metadata": {},
   "outputs": [
    {
     "data": {
      "text/plain": [
       "Index(['Sr. No.', 'Year', 'Author', 'Exp', 'Data', 'Vel', 'Temp', 'RH',\n",
       "       'hours', 'Fit', 'Variety', 'Technique', 'Pretreatment', 'P_temp',\n",
       "       'P_time', 'kg_r', 'kg_m', 'Diff_r', 'Diff_m', 'Do', 'TD', 'alpha',\n",
       "       'aLR', 'aRL', 'mwR', 'Density', 'Berry Count', 'Radius', 'Dry_Mass',\n",
       "       'Weight_i', 'Vol_i', 'Water_i', 'MR_i', 'MC_i', 'MC_i.1', 'Weight_f',\n",
       "       'Vol_f', 'Water_f', 'MC_eq_Lit', 'MC_eq_Lit.1', 'MR_f', 'MC_f',\n",
       "       'MC_f.1', 'Pretreatment.1'],\n",
       "      dtype='object')"
      ]
     },
     "execution_count": 174,
     "metadata": {},
     "output_type": "execute_result"
    }
   ],
   "source": [
    "df.columns"
   ]
  },
  {
   "cell_type": "code",
   "execution_count": 208,
   "metadata": {},
   "outputs": [],
   "source": [
    "features_categorical = ['Variety', 'Technique', 'Pretreatment',] \n",
    "features_numerical = ['Vel', 'Temp', 'P_temp', 'P_time','RH',]\n",
    "target = ['hours']"
   ]
  },
  {
   "cell_type": "code",
   "execution_count": 209,
   "metadata": {},
   "outputs": [
    {
     "name": "stdout",
     "output_type": "stream",
     "text": [
      "<class 'pandas.core.frame.DataFrame'>\n",
      "Index: 558 entries, 0 to 557\n",
      "Data columns (total 9 columns):\n",
      " #   Column        Non-Null Count  Dtype  \n",
      "---  ------        --------------  -----  \n",
      " 0   Variety       558 non-null    object \n",
      " 1   Technique     558 non-null    object \n",
      " 2   Pretreatment  558 non-null    object \n",
      " 3   Vel           558 non-null    float64\n",
      " 4   Temp          558 non-null    float64\n",
      " 5   P_temp        558 non-null    float64\n",
      " 6   P_time        558 non-null    float64\n",
      " 7   RH            558 non-null    float64\n",
      " 8   hours         558 non-null    float64\n",
      "dtypes: float64(6), object(3)\n",
      "memory usage: 59.8+ KB\n"
     ]
    }
   ],
   "source": [
    "df = df[features_categorical + features_numerical + target]\n",
    "df.info()"
   ]
  },
  {
   "cell_type": "code",
   "execution_count": 220,
   "metadata": {},
   "outputs": [
    {
     "name": "stdout",
     "output_type": "stream",
     "text": [
      "<class 'pandas.core.frame.DataFrame'>\n",
      "Index: 558 entries, 0 to 557\n",
      "Data columns (total 9 columns):\n",
      " #   Column        Non-Null Count  Dtype  \n",
      "---  ------        --------------  -----  \n",
      " 0   Variety       558 non-null    object \n",
      " 1   Technique     558 non-null    object \n",
      " 2   Pretreatment  558 non-null    object \n",
      " 3   Vel           558 non-null    float64\n",
      " 4   Temp          558 non-null    float64\n",
      " 5   P_temp        558 non-null    float64\n",
      " 6   P_time        558 non-null    float64\n",
      " 7   RH            558 non-null    float64\n",
      " 8   hours         558 non-null    float64\n",
      "dtypes: float64(6), object(3)\n",
      "memory usage: 59.8+ KB\n"
     ]
    }
   ],
   "source": [
    "df['P_temp'].replace(to_replace=dict(Untreated=25.001, NotApplicable = 25.001), inplace=True)\n",
    "df['P_time'].replace(to_replace=dict(Untreated=0.0001, NotApplicable = 25.001), inplace=True)\n",
    "df['P_temp'] = df['P_temp'].astype(float)\n",
    "df['P_time'] = df['P_time'].astype(float)\n",
    "df.dropna(inplace=True)\n",
    "df.info()"
   ]
  },
  {
   "cell_type": "code",
   "execution_count": 222,
   "metadata": {},
   "outputs": [],
   "source": [
    "from sklearn.preprocessing import OneHotEncoder\n",
    "enc = OneHotEncoder(handle_unknown='ignore')\n",
    "enc.fit(df[features_categorical + features_numerical])\n",
    "X = enc.transform(df[features_categorical + features_numerical])\n",
    "y = df[target].dropna()"
   ]
  },
  {
   "cell_type": "code",
   "execution_count": 114,
   "metadata": {},
   "outputs": [],
   "source": [
    "X = pd.get_dummies(data=df[features_categorical + features_numerical ],\n",
    "                   columns=features_categorical).dropna()\n"
   ]
  },
  {
   "attachments": {},
   "cell_type": "markdown",
   "metadata": {},
   "source": [
    "Trian Test Split"
   ]
  },
  {
   "cell_type": "code",
   "execution_count": 223,
   "metadata": {},
   "outputs": [],
   "source": [
    "from sklearn.model_selection import train_test_split\n",
    "X_train, X_test, y_train, y_test = train_test_split(X,\n",
    "                                                    y,\n",
    "                                                    train_size=0.8,\n",
    "                                                    random_state=0)"
   ]
  },
  {
   "attachments": {},
   "cell_type": "markdown",
   "metadata": {},
   "source": [
    "Base Model"
   ]
  },
  {
   "cell_type": "code",
   "execution_count": 224,
   "metadata": {},
   "outputs": [
    {
     "name": "stdout",
     "output_type": "stream",
     "text": [
      "Training accuracy: 0.9345\n",
      "Testing accuracy:  0.6651\n"
     ]
    }
   ],
   "source": [
    "from sklearn.linear_model import LinearRegression\n",
    "model = LinearRegression()\n",
    "reg_lin = model.fit(X_train, y_train)\n",
    "y_pred = reg_lin.predict(X_test)\n",
    "\n",
    "from sklearn.metrics import r2_score\n",
    "print(\"Training accuracy: {:.4f}\".format(r2_score(y_train, reg_lin.predict(X_train))))\n",
    "print(\"Testing accuracy:  {:.4f}\".format(r2_score(y_test , reg_lin.predict(X_test))))\n"
   ]
  },
  {
   "attachments": {},
   "cell_type": "markdown",
   "metadata": {},
   "source": [
    "Random forrest "
   ]
  },
  {
   "cell_type": "code",
   "execution_count": 225,
   "metadata": {},
   "outputs": [
    {
     "name": "stdout",
     "output_type": "stream",
     "text": [
      "Training accuracy: 0.8558\n",
      "Testing accuracy:  0.7761\n"
     ]
    }
   ],
   "source": [
    "from sklearn.ensemble import RandomForestRegressor\n",
    "model = RandomForestRegressor(max_depth=10,\n",
    "                              n_estimators=10,\n",
    "                              criterion='absolute_error')\n",
    "reg_rf = model.fit(X_train, y_train)\n",
    "y_pred = reg_rf.predict(X_test)\n",
    "\n",
    "from sklearn.metrics import r2_score\n",
    "print(\"Training accuracy: {:.4f}\".format(r2_score(y_train, reg_rf.predict(X_train))))\n",
    "print(\"Testing accuracy:  {:.4f}\".format(r2_score(y_test , reg_rf.predict(X_test))))"
   ]
  },
  {
   "attachments": {},
   "cell_type": "markdown",
   "metadata": {},
   "source": [
    "Testing on Payload"
   ]
  },
  {
   "cell_type": "code",
   "execution_count": 119,
   "metadata": {},
   "outputs": [],
   "source": [
    "df_check = df_org[500:501]\n",
    "out = df_check.to_json(orient='records')[1:-1].replace('},{', '} {')\n",
    "with open('../tests/payload.json', 'w') as f:\n",
    "    f.write(out)"
   ]
  },
  {
   "cell_type": "code",
   "execution_count": 226,
   "metadata": {},
   "outputs": [],
   "source": [
    "payload = {\n",
    "      \"Sr. No.\": 501,\n",
    "      \"Year\": 2017,\n",
    "      \"Author\": \"Azzouz S.\",\n",
    "      \"Exp\": 1,\n",
    "      \"Data\": 18,\n",
    "      \"Vel\": 2,\n",
    "      \"Temp\": 45,\n",
    "      \"RH\": 20,\n",
    "      \n",
    "      \"Fit\": 0.142,\n",
    "      \"Variety\": \"Thomson\",\n",
    "      \"Technique\": \"Convective\",\n",
    "      \"Pretreatment\": \"Untreated\",\n",
    "      \"P_temp\": \"Untreated\",\n",
    "      \"P_time\": \"Untreated\",\n",
    "      \"kg_r\": 'null',\n",
    "      \"kg_m\": 69,\n",
    "      \"Diff_r\": 'null',\n",
    "      \"Diff_m\": 0.000306,\n",
    "      \"Do\": 750000000,\n",
    "      \"TD\": 2483,\n",
    "      \"alpha\": 0.0179,\n",
    "      \"aLR\": 0.023,\n",
    "      \"aRL\": 0.149,\n",
    "      \"mwR\": \"29.6\",\n",
    "      \"Density\": 1075,\n",
    "      \"Berry Count\": 400,\n",
    "      \"Radius\": 0.822,\n",
    "      \"Dry_Mass\": 205.778,\n",
    "      \"Weight_i\": 1000,\n",
    "      \"Vol_i\": 930.233,\n",
    "      \"Water_i\": 794.222,\n",
    "      \"MR_i\": 1,\n",
    "      \"MC_i\": 3.8596,\n",
    "      \"MC_i.1\": 0.7942,\n",
    "      \"Weight_f\": 289.098,\n",
    "      \"Vol_f\": 224.107,\n",
    "      \"Water_f\": 83.32,\n",
    "      \"MC_eq_Lit\": 0.4049,\n",
    "      \"MC_eq_Lit.1\": 0.2882,\n",
    "      \"MR_f\": 0,\n",
    "      \"MC_f\": 0.4049,\n",
    "      \"MC_f.1\": 0.2882,\n",
    "      \"Pretreatment.1\": \"Untreated\"\n",
    "}\n",
    "\n",
    "#\"hours\": 17,"
   ]
  },
  {
   "attachments": {},
   "cell_type": "markdown",
   "metadata": {},
   "source": [
    "Prediction function"
   ]
  },
  {
   "cell_type": "code",
   "execution_count": 253,
   "metadata": {},
   "outputs": [],
   "source": [
    "def prediction(data, encoder, model):\n",
    "\n",
    "    df = pd.DataFrame(data, index=[0])\n",
    "\n",
    "    if isinstance(df['P_temp'][0], str):\n",
    "        df['P_temp'][0] = 25\n",
    "    if isinstance(df['P_time'][0], str):\n",
    "        df['P_time'][0] = 0.00  \n",
    "    df['P_temp'] = df['P_temp'].astype(float)\n",
    "    df['P_time'] = df['P_time'].astype(float) \n",
    "          \n",
    "    X = df[features_categorical + features_numerical]\n",
    "    X_en = enc.transform(X)\n",
    "    y_pred = model.predict(X_en)\n",
    "    return y_pred"
   ]
  },
  {
   "attachments": {},
   "cell_type": "markdown",
   "metadata": {},
   "source": [
    "Dumping Model and Encoder"
   ]
  },
  {
   "cell_type": "code",
   "execution_count": 255,
   "metadata": {},
   "outputs": [],
   "source": [
    "import pickle\n",
    "\n",
    "with open('../bin/reg_rf.bin', 'wb') as f_out:\n",
    "    pickle.dump( reg_rf , f_out)\n",
    "\n",
    "with open('../bin/enc.bin', 'wb') as f_out:\n",
    "    pickle.dump( enc , f_out)"
   ]
  }
 ],
 "metadata": {
  "kernelspec": {
   "display_name": ".venv",
   "language": "python",
   "name": "python3"
  },
  "language_info": {
   "codemirror_mode": {
    "name": "ipython",
    "version": 3
   },
   "file_extension": ".py",
   "mimetype": "text/x-python",
   "name": "python",
   "nbconvert_exporter": "python",
   "pygments_lexer": "ipython3",
   "version": "3.8.10"
  },
  "orig_nbformat": 4
 },
 "nbformat": 4,
 "nbformat_minor": 2
}
