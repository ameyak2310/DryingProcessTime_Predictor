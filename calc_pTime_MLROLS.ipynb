{
 "cells": [
  {
   "cell_type": "markdown",
   "metadata": {},
   "source": [
    "# Drying Time Predictor\n",
    "#### Prediction of process time for drying of Grapes to Raisins"
   ]
  },
  {
   "cell_type": "markdown",
   "metadata": {},
   "source": [
    "#### Data Aquisition & Cleaning"
   ]
  },
  {
   "cell_type": "code",
   "execution_count": 2,
   "metadata": {},
   "outputs": [],
   "source": [
    "import os\n",
    "import pandas as pd\n",
    "path = os.getcwd() + '\\data\\LiteratureData_20220809.xlsx'\n",
    "df_org = pd.read_excel(path)"
   ]
  },
  {
   "cell_type": "code",
   "execution_count": 3,
   "metadata": {},
   "outputs": [
    {
     "data": {
      "text/plain": [
       "Index(['Sr. No.', 'Year', 'Author', 'Exp', 'Data', 'Vel', 'Temp', 'RH',\n",
       "       'hours', 'Fit', 'Variety', 'Technique', 'Pretreatment', 'P_temp',\n",
       "       'P_time', 'kg_r', 'kg_m', 'Diff_r', 'Diff_m', 'Do', 'TD', 'alpha',\n",
       "       'aLR', 'aRL', 'mwR', 'Density', 'Berry Count', 'Radius', 'Dry_Mass',\n",
       "       'Weight_i', 'Vol_i', 'Water_i', 'MR_i', 'MC_i', 'MC_i.1', 'Weight_f',\n",
       "       'Vol_f', 'Water_f', 'MC_eq_Lit', 'MC_eq_Lit.1', 'MR_f', 'MC_f',\n",
       "       'MC_f.1', 'Pretreatment.1'],\n",
       "      dtype='object')"
      ]
     },
     "execution_count": 3,
     "metadata": {},
     "output_type": "execute_result"
    }
   ],
   "source": [
    "df_org.columns"
   ]
  },
  {
   "cell_type": "code",
   "execution_count": 4,
   "metadata": {},
   "outputs": [
    {
     "name": "stdout",
     "output_type": "stream",
     "text": [
      "<class 'pandas.core.frame.DataFrame'>\n",
      "RangeIndex: 558 entries, 0 to 557\n",
      "Data columns (total 44 columns):\n",
      " #   Column          Non-Null Count  Dtype  \n",
      "---  ------          --------------  -----  \n",
      " 0   Sr. No.         558 non-null    int64  \n",
      " 1   Year            558 non-null    int64  \n",
      " 2   Author          558 non-null    object \n",
      " 3   Exp             558 non-null    int64  \n",
      " 4   Data            558 non-null    int64  \n",
      " 5   Vel             558 non-null    float64\n",
      " 6   Temp            558 non-null    float64\n",
      " 7   RH              558 non-null    float64\n",
      " 8   hours           558 non-null    int64  \n",
      " 9   Fit             558 non-null    float64\n",
      " 10  Variety         558 non-null    object \n",
      " 11  Technique       558 non-null    object \n",
      " 12  Pretreatment    558 non-null    object \n",
      " 13  P_temp          558 non-null    object \n",
      " 14  P_time          558 non-null    object \n",
      " 15  kg_r            9 non-null      object \n",
      " 16  kg_m            558 non-null    float64\n",
      " 17  Diff_r          0 non-null      float64\n",
      " 18  Diff_m          558 non-null    float64\n",
      " 19  Do              558 non-null    int64  \n",
      " 20  TD              558 non-null    int64  \n",
      " 21  alpha           558 non-null    float64\n",
      " 22  aLR             558 non-null    float64\n",
      " 23  aRL             558 non-null    float64\n",
      " 24  mwR             558 non-null    object \n",
      " 25  Density         557 non-null    float64\n",
      " 26  Berry Count     557 non-null    float64\n",
      " 27  Radius          557 non-null    float64\n",
      " 28  Dry_Mass        557 non-null    float64\n",
      " 29  Weight_i        557 non-null    float64\n",
      " 30  Vol_i           557 non-null    float64\n",
      " 31  Water_i         557 non-null    float64\n",
      " 32  MR_i            557 non-null    float64\n",
      " 33  MC_i            557 non-null    float64\n",
      " 34  MC_i.1          557 non-null    float64\n",
      " 35  Weight_f        557 non-null    float64\n",
      " 36  Vol_f           557 non-null    float64\n",
      " 37  Water_f         557 non-null    float64\n",
      " 38  MC_eq_Lit       557 non-null    float64\n",
      " 39  MC_eq_Lit.1     557 non-null    float64\n",
      " 40  MR_f            557 non-null    float64\n",
      " 41  MC_f            557 non-null    float64\n",
      " 42  MC_f.1          557 non-null    float64\n",
      " 43  Pretreatment.1  550 non-null    object \n",
      "dtypes: float64(28), int64(7), object(9)\n",
      "memory usage: 191.9+ KB\n"
     ]
    }
   ],
   "source": [
    "df_org.info()"
   ]
  },
  {
   "cell_type": "markdown",
   "metadata": {},
   "source": [
    "## Modelling - Multi-Linear Regression OLS"
   ]
  },
  {
   "cell_type": "code",
   "execution_count": 6,
   "metadata": {},
   "outputs": [],
   "source": [
    "X_features = ['Vel', 'Temp', 'RH', 'Variety', 'Technique', 'Pretreatment', 'P_temp', 'P_time', ]\n",
    "Catergorical_features = ['Variety', 'Technique', 'Pretreatment']\n",
    "Y_actual   = ['hours']\n"
   ]
  },
  {
   "cell_type": "markdown",
   "metadata": {},
   "source": [
    "#### One hot encoding - For categorical Features Pretreatment type, Variety, Technique"
   ]
  },
  {
   "cell_type": "code",
   "execution_count": 7,
   "metadata": {},
   "outputs": [
    {
     "data": {
      "text/plain": [
       "array(['Chemical', 'Untreated', 'ChemMic', 'Microwave', 'Physical',\n",
       "       'Ohmic', 'Electric', 'Hot Air', 'Plasma', 'Freezing', 'Cryogenic'],\n",
       "      dtype=object)"
      ]
     },
     "execution_count": 7,
     "metadata": {},
     "output_type": "execute_result"
    }
   ],
   "source": [
    "df_org['Pretreatment'].unique()"
   ]
  },
  {
   "cell_type": "code",
   "execution_count": 8,
   "metadata": {},
   "outputs": [
    {
     "data": {
      "text/plain": [
       "array(['Thomson', 'Ruby', 'Emerald', 'Delight', 'Rodi', 'Unreported',\n",
       "       'Flame', 'Muscatel', 'Italia', 'Aledo', 'Nevado', 'Chasselas',\n",
       "       'Red', 'Tunisian', 'Seeded', 'Perlette', 'Black', 'Monukka ',\n",
       "       'Monukka', 'Globe', 'Sugraone', 'Tempranillo', 'Asgari', 'Crimson',\n",
       "       'Centennial'], dtype=object)"
      ]
     },
     "execution_count": 8,
     "metadata": {},
     "output_type": "execute_result"
    }
   ],
   "source": [
    "df_org['Variety'].unique()"
   ]
  },
  {
   "cell_type": "code",
   "execution_count": 9,
   "metadata": {},
   "outputs": [
    {
     "data": {
      "text/plain": [
       "array(['Dark', 'Shade', 'Open Sun', 'Convective', 'MicroWave',\n",
       "       'Fluidized bed', 'ConMic'], dtype=object)"
      ]
     },
     "execution_count": 9,
     "metadata": {},
     "output_type": "execute_result"
    }
   ],
   "source": [
    "df_org['Technique'].unique()"
   ]
  },
  {
   "cell_type": "code",
   "execution_count": 10,
   "metadata": {},
   "outputs": [],
   "source": [
    "df_encoded = pd.get_dummies(df_org[X_features],\n",
    "                            columns = Catergorical_features,\n",
    "                            drop_first=True\n",
    "                           )"
   ]
  },
  {
   "cell_type": "code",
   "execution_count": 11,
   "metadata": {},
   "outputs": [
    {
     "name": "stdout",
     "output_type": "stream",
     "text": [
      "<class 'pandas.core.frame.DataFrame'>\n",
      "RangeIndex: 558 entries, 0 to 557\n",
      "Data columns (total 45 columns):\n",
      " #   Column                   Non-Null Count  Dtype  \n",
      "---  ------                   --------------  -----  \n",
      " 0   Vel                      558 non-null    float64\n",
      " 1   Temp                     558 non-null    float64\n",
      " 2   RH                       558 non-null    float64\n",
      " 3   P_temp                   558 non-null    object \n",
      " 4   P_time                   558 non-null    object \n",
      " 5   Variety_Asgari           558 non-null    uint8  \n",
      " 6   Variety_Black            558 non-null    uint8  \n",
      " 7   Variety_Centennial       558 non-null    uint8  \n",
      " 8   Variety_Chasselas        558 non-null    uint8  \n",
      " 9   Variety_Crimson          558 non-null    uint8  \n",
      " 10  Variety_Delight          558 non-null    uint8  \n",
      " 11  Variety_Emerald          558 non-null    uint8  \n",
      " 12  Variety_Flame            558 non-null    uint8  \n",
      " 13  Variety_Globe            558 non-null    uint8  \n",
      " 14  Variety_Italia           558 non-null    uint8  \n",
      " 15  Variety_Monukka          558 non-null    uint8  \n",
      " 16  Variety_Monukka          558 non-null    uint8  \n",
      " 17  Variety_Muscatel         558 non-null    uint8  \n",
      " 18  Variety_Nevado           558 non-null    uint8  \n",
      " 19  Variety_Perlette         558 non-null    uint8  \n",
      " 20  Variety_Red              558 non-null    uint8  \n",
      " 21  Variety_Rodi             558 non-null    uint8  \n",
      " 22  Variety_Ruby             558 non-null    uint8  \n",
      " 23  Variety_Seeded           558 non-null    uint8  \n",
      " 24  Variety_Sugraone         558 non-null    uint8  \n",
      " 25  Variety_Tempranillo      558 non-null    uint8  \n",
      " 26  Variety_Thomson          558 non-null    uint8  \n",
      " 27  Variety_Tunisian         558 non-null    uint8  \n",
      " 28  Variety_Unreported       558 non-null    uint8  \n",
      " 29  Technique_Convective     558 non-null    uint8  \n",
      " 30  Technique_Dark           558 non-null    uint8  \n",
      " 31  Technique_Fluidized bed  558 non-null    uint8  \n",
      " 32  Technique_MicroWave      558 non-null    uint8  \n",
      " 33  Technique_Open Sun       558 non-null    uint8  \n",
      " 34  Technique_Shade          558 non-null    uint8  \n",
      " 35  Pretreatment_Chemical    558 non-null    uint8  \n",
      " 36  Pretreatment_Cryogenic   558 non-null    uint8  \n",
      " 37  Pretreatment_Electric    558 non-null    uint8  \n",
      " 38  Pretreatment_Freezing    558 non-null    uint8  \n",
      " 39  Pretreatment_Hot Air     558 non-null    uint8  \n",
      " 40  Pretreatment_Microwave   558 non-null    uint8  \n",
      " 41  Pretreatment_Ohmic       558 non-null    uint8  \n",
      " 42  Pretreatment_Physical    558 non-null    uint8  \n",
      " 43  Pretreatment_Plasma      558 non-null    uint8  \n",
      " 44  Pretreatment_Untreated   558 non-null    uint8  \n",
      "dtypes: float64(3), object(2), uint8(40)\n",
      "memory usage: 43.7+ KB\n"
     ]
    }
   ],
   "source": [
    "df_encoded.info()"
   ]
  },
  {
   "cell_type": "markdown",
   "metadata": {},
   "source": [
    "#### Feature Modifications"
   ]
  },
  {
   "cell_type": "code",
   "execution_count": 12,
   "metadata": {},
   "outputs": [],
   "source": [
    "df_encoded['P_temp'].replace(to_replace=dict(Untreated=25.001, NotApplicable = 25.001), inplace=True)\n",
    "df_encoded['P_time'].replace(to_replace=dict(Untreated=0.0001, NotApplicable = 25.001), inplace=True)"
   ]
  },
  {
   "cell_type": "code",
   "execution_count": 13,
   "metadata": {},
   "outputs": [],
   "source": [
    "df_encoded['P_temp'] = df_encoded['P_temp'].astype(float)\n",
    "df_encoded['P_time'] = df_encoded['P_time'].astype(float)"
   ]
  },
  {
   "cell_type": "code",
   "execution_count": 14,
   "metadata": {},
   "outputs": [],
   "source": [
    "X_features = df_encoded.columns\n",
    "Y_actual   = df_org.hours"
   ]
  },
  {
   "cell_type": "code",
   "execution_count": 15,
   "metadata": {},
   "outputs": [
    {
     "name": "stderr",
     "output_type": "stream",
     "text": [
      "c:\\Users\\ameya\\anaconda3\\lib\\site-packages\\statsmodels\\tsa\\tsatools.py:142: FutureWarning: In a future version of pandas all arguments of concat except for the argument 'objs' will be keyword-only\n",
      "  x = pd.concat(x[::order], 1)\n"
     ]
    }
   ],
   "source": [
    "import statsmodels.api as sm\n",
    "from sklearn.model_selection import train_test_split\n",
    "\n",
    "X = sm.add_constant(df_encoded)\n",
    "Y = df_org['hours']\n",
    "\n",
    "X_train, X_test, y_train, y_test = train_test_split(X,\n",
    "                                                    Y,\n",
    "                                                    train_size = 0.8,\n",
    "                                                    random_state = 23)"
   ]
  },
  {
   "cell_type": "markdown",
   "metadata": {},
   "source": [
    "#### Multilinear Regression OLS"
   ]
  },
  {
   "cell_type": "code",
   "execution_count": 16,
   "metadata": {},
   "outputs": [
    {
     "name": "stdout",
     "output_type": "stream",
     "text": [
      "                        Results: Ordinary least squares\n",
      "================================================================================\n",
      "Model:                    OLS                  Adj. R-squared:         0.702    \n",
      "Dependent Variable:       hours                AIC:                    5198.0438\n",
      "Date:                     2022-11-25 22:29     BIC:                    5386.6585\n",
      "No. Observations:         446                  Log-Likelihood:         -2553.0  \n",
      "Df Model:                 45                   F-statistic:            24.26    \n",
      "Df Residuals:             400                  Prob (F-statistic):     2.42e-88 \n",
      "R-squared:                0.732                Scale:                  6121.2   \n",
      "--------------------------------------------------------------------------------\n",
      "                          Coef.    Std.Err.    t    P>|t|    [0.025     0.975]  \n",
      "--------------------------------------------------------------------------------\n",
      "const                    124.3274   47.4223  2.6217 0.0091    31.0993   217.5554\n",
      "Vel                      -28.8253    3.9969 -7.2119 0.0000   -36.6830   -20.9677\n",
      "Temp                      -3.8115    0.4527 -8.4201 0.0000    -4.7014    -2.9216\n",
      "RH                        -0.5748    0.3570 -1.6102 0.1081    -1.2766     0.1270\n",
      "P_temp                    -0.0943    0.2309 -0.4085 0.6832    -0.5482     0.3596\n",
      "P_time                    -0.0598    0.0534 -1.1203 0.2633    -0.1648     0.0451\n",
      "Variety_Asgari           -79.8504   72.5648 -1.1004 0.2718  -222.5064    62.8057\n",
      "Variety_Black           -114.3201   35.2325 -3.2447 0.0013  -183.5841   -45.0561\n",
      "Variety_Centennial       131.4637   48.3878  2.7169 0.0069    36.3375   226.5898\n",
      "Variety_Chasselas        -71.5022   50.4645 -1.4169 0.1573  -170.7110    27.7066\n",
      "Variety_Crimson          190.6931   50.1629  3.8015 0.0002    92.0773   289.3089\n",
      "Variety_Delight         -234.8227   82.1462 -2.8586 0.0045  -396.3148   -73.3305\n",
      "Variety_Emerald          -76.1676   60.7954 -1.2529 0.2110  -195.6860    43.3509\n",
      "Variety_Flame            -49.7429   33.9172 -1.4666 0.1433  -116.4212    16.9355\n",
      "Variety_Globe             -0.6663   32.3120 -0.0206 0.9836   -64.1888    62.8563\n",
      "Variety_Italia            36.3297   29.6050  1.2272 0.2205   -21.8710    94.5305\n",
      "Variety_Monukka          125.2531   40.1038  3.1232 0.0019    46.4126   204.0937\n",
      "Variety_Monukka          -32.9178   58.4992 -0.5627 0.5740  -147.9221    82.0866\n",
      "Variety_Muscatel         -17.2004   23.5926 -0.7291 0.4664   -63.5814    29.1807\n",
      "Variety_Nevado          -135.1492   51.5770 -2.6203 0.0091  -236.5451   -33.7534\n",
      "Variety_Perlette         -97.8487   52.6047 -1.8601 0.0636  -201.2649     5.5675\n",
      "Variety_Red              -60.0311   54.0913 -1.1098 0.2677  -166.3699    46.3078\n",
      "Variety_Rodi            -130.7352   58.9219 -2.2188 0.0271  -246.5704   -14.9000\n",
      "Variety_Ruby             -54.4779   31.3780 -1.7362 0.0833  -116.1642     7.2084\n",
      "Variety_Seeded           -11.9045   28.8206 -0.4131 0.6798   -68.5633    44.7543\n",
      "Variety_Sugraone          65.1114   50.3547  1.2931 0.1967   -33.8816   164.1043\n",
      "Variety_Tempranillo     -101.4908   46.1709 -2.1982 0.0285  -192.2588   -10.7229\n",
      "Variety_Thomson          -65.8168   18.8812 -3.4858 0.0005  -102.9355   -28.6981\n",
      "Variety_Tunisian         -61.8050   39.8798 -1.5498 0.1220  -140.2051    16.5952\n",
      "Variety_Unreported      -145.2624   25.5311 -5.6896 0.0000  -195.4543   -95.0704\n",
      "Technique_Convective      71.9551   21.9003  3.2856 0.0011    28.9010   115.0092\n",
      "Technique_Dark           576.8815   60.2764  9.5706 0.0000   458.3834   695.3797\n",
      "Technique_Fluidized bed   53.4679   36.8795  1.4498 0.1479   -19.0339   125.9697\n",
      "Technique_MicroWave       53.4389   39.7266  1.3452 0.1793   -24.6601   131.5379\n",
      "Technique_Open Sun       220.3742   27.2999  8.0724 0.0000   166.7050   274.0433\n",
      "Technique_Shade          803.8815   60.2764 13.3366 0.0000   685.3834   922.3797\n",
      "Pretreatment_Chemical    192.1855   35.4145  5.4267 0.0000   122.5637   261.8073\n",
      "Pretreatment_Cryogenic   295.2971   81.6976  3.6145 0.0003   134.6868   455.9073\n",
      "Pretreatment_Electric    236.7252   87.9773  2.6908 0.0074    63.7697   409.6808\n",
      "Pretreatment_Freezing   5475.0447 4603.3524  1.1894 0.2350 -3574.7425 14524.8320\n",
      "Pretreatment_Hot Air     589.1362   73.9559  7.9660 0.0000   443.7454   734.5270\n",
      "Pretreatment_Microwave   -20.7370   83.1632 -0.2494 0.8032  -184.2286   142.7545\n",
      "Pretreatment_Ohmic       195.5435   82.9959  2.3561 0.0190    32.3809   358.7061\n",
      "Pretreatment_Physical    188.3240   45.5375  4.1356 0.0000    98.8013   277.8467\n",
      "Pretreatment_Plasma      201.6362   70.0792  2.8773 0.0042    63.8666   339.4058\n",
      "Pretreatment_Untreated   228.3898   35.5370  6.4268 0.0000   158.5272   298.2525\n",
      "--------------------------------------------------------------------------------\n",
      "Omnibus:                  229.795           Durbin-Watson:              2.006   \n",
      "Prob(Omnibus):            0.000             Jarque-Bera (JB):           2208.745\n",
      "Skew:                     2.004             Prob(JB):                   0.000   \n",
      "Kurtosis:                 13.138            Condition No.:              5086341 \n",
      "================================================================================\n",
      "* The condition number is large (5e+06). This might indicate             strong\n",
      "multicollinearity or other numerical problems.\n"
     ]
    }
   ],
   "source": [
    "model_1 = sm.OLS(y_train, X_train).fit()\n",
    "print(model_1.summary2())"
   ]
  },
  {
   "cell_type": "markdown",
   "metadata": {},
   "source": [
    "#### Variance Inflation Factor (VIF)"
   ]
  },
  {
   "cell_type": "code",
   "execution_count": 17,
   "metadata": {},
   "outputs": [],
   "source": [
    "from statsmodels.stats.outliers_influence import variance_inflation_factor\n",
    "\n",
    "def get_vif(X):\n",
    "    X_matrix = X.to_numpy()\n",
    "    vif = [variance_inflation_factor (X_matrix, i) for i in range(X_matrix.shape[1])]\n",
    "    vif_factors = pd.DataFrame()\n",
    "    vif_factors['column'] = X.columns\n",
    "    vif_factors['VIF'] = vif\n",
    "    return vif_factors"
   ]
  },
  {
   "cell_type": "code",
   "execution_count": 18,
   "metadata": {},
   "outputs": [
    {
     "data": {
      "text/html": [
       "<div>\n",
       "<style scoped>\n",
       "    .dataframe tbody tr th:only-of-type {\n",
       "        vertical-align: middle;\n",
       "    }\n",
       "\n",
       "    .dataframe tbody tr th {\n",
       "        vertical-align: top;\n",
       "    }\n",
       "\n",
       "    .dataframe thead th {\n",
       "        text-align: right;\n",
       "    }\n",
       "</style>\n",
       "<table border=\"1\" class=\"dataframe\">\n",
       "  <thead>\n",
       "    <tr style=\"text-align: right;\">\n",
       "      <th></th>\n",
       "      <th>column</th>\n",
       "      <th>VIF</th>\n",
       "    </tr>\n",
       "  </thead>\n",
       "  <tbody>\n",
       "    <tr>\n",
       "      <th>0</th>\n",
       "      <td>Vel</td>\n",
       "      <td>8.459363</td>\n",
       "    </tr>\n",
       "    <tr>\n",
       "      <th>1</th>\n",
       "      <td>Temp</td>\n",
       "      <td>39.298243</td>\n",
       "    </tr>\n",
       "    <tr>\n",
       "      <th>2</th>\n",
       "      <td>RH</td>\n",
       "      <td>6.796098</td>\n",
       "    </tr>\n",
       "    <tr>\n",
       "      <th>3</th>\n",
       "      <td>P_temp</td>\n",
       "      <td>7.213549</td>\n",
       "    </tr>\n",
       "    <tr>\n",
       "      <th>4</th>\n",
       "      <td>P_time</td>\n",
       "      <td>2525.290203</td>\n",
       "    </tr>\n",
       "    <tr>\n",
       "      <th>5</th>\n",
       "      <td>Variety_Asgari</td>\n",
       "      <td>3.296953</td>\n",
       "    </tr>\n",
       "    <tr>\n",
       "      <th>6</th>\n",
       "      <td>Variety_Black</td>\n",
       "      <td>1.577612</td>\n",
       "    </tr>\n",
       "    <tr>\n",
       "      <th>7</th>\n",
       "      <td>Variety_Centennial</td>\n",
       "      <td>1.351229</td>\n",
       "    </tr>\n",
       "    <tr>\n",
       "      <th>8</th>\n",
       "      <td>Variety_Chasselas</td>\n",
       "      <td>1.171906</td>\n",
       "    </tr>\n",
       "    <tr>\n",
       "      <th>9</th>\n",
       "      <td>Variety_Crimson</td>\n",
       "      <td>1.177173</td>\n",
       "    </tr>\n",
       "    <tr>\n",
       "      <th>10</th>\n",
       "      <td>Variety_Delight</td>\n",
       "      <td>1.086024</td>\n",
       "    </tr>\n",
       "    <tr>\n",
       "      <th>11</th>\n",
       "      <td>Variety_Emerald</td>\n",
       "      <td>1.150158</td>\n",
       "    </tr>\n",
       "    <tr>\n",
       "      <th>12</th>\n",
       "      <td>Variety_Flame</td>\n",
       "      <td>1.552742</td>\n",
       "    </tr>\n",
       "    <tr>\n",
       "      <th>13</th>\n",
       "      <td>Variety_Globe</td>\n",
       "      <td>1.490347</td>\n",
       "    </tr>\n",
       "    <tr>\n",
       "      <th>14</th>\n",
       "      <td>Variety_Italia</td>\n",
       "      <td>1.422670</td>\n",
       "    </tr>\n",
       "    <tr>\n",
       "      <th>15</th>\n",
       "      <td>Variety_Monukka</td>\n",
       "      <td>1.182518</td>\n",
       "    </tr>\n",
       "    <tr>\n",
       "      <th>16</th>\n",
       "      <td>Variety_Monukka</td>\n",
       "      <td>1.265380</td>\n",
       "    </tr>\n",
       "    <tr>\n",
       "      <th>17</th>\n",
       "      <td>Variety_Muscatel</td>\n",
       "      <td>1.903703</td>\n",
       "    </tr>\n",
       "    <tr>\n",
       "      <th>18</th>\n",
       "      <td>Variety_Nevado</td>\n",
       "      <td>1.189761</td>\n",
       "    </tr>\n",
       "    <tr>\n",
       "      <th>19</th>\n",
       "      <td>Variety_Perlette</td>\n",
       "      <td>1.249518</td>\n",
       "    </tr>\n",
       "    <tr>\n",
       "      <th>20</th>\n",
       "      <td>Variety_Red</td>\n",
       "      <td>2.706177</td>\n",
       "    </tr>\n",
       "    <tr>\n",
       "      <th>21</th>\n",
       "      <td>Variety_Rodi</td>\n",
       "      <td>1.090196</td>\n",
       "    </tr>\n",
       "    <tr>\n",
       "      <th>22</th>\n",
       "      <td>Variety_Ruby</td>\n",
       "      <td>1.561684</td>\n",
       "    </tr>\n",
       "    <tr>\n",
       "      <th>23</th>\n",
       "      <td>Variety_Seeded</td>\n",
       "      <td>1.644546</td>\n",
       "    </tr>\n",
       "    <tr>\n",
       "      <th>24</th>\n",
       "      <td>Variety_Sugraone</td>\n",
       "      <td>2.275265</td>\n",
       "    </tr>\n",
       "    <tr>\n",
       "      <th>25</th>\n",
       "      <td>Variety_Tempranillo</td>\n",
       "      <td>1.369632</td>\n",
       "    </tr>\n",
       "    <tr>\n",
       "      <th>26</th>\n",
       "      <td>Variety_Thomson</td>\n",
       "      <td>10.227378</td>\n",
       "    </tr>\n",
       "    <tr>\n",
       "      <th>27</th>\n",
       "      <td>Variety_Tunisian</td>\n",
       "      <td>1.191065</td>\n",
       "    </tr>\n",
       "    <tr>\n",
       "      <th>28</th>\n",
       "      <td>Variety_Unreported</td>\n",
       "      <td>2.697088</td>\n",
       "    </tr>\n",
       "    <tr>\n",
       "      <th>29</th>\n",
       "      <td>Technique_Convective</td>\n",
       "      <td>22.593933</td>\n",
       "    </tr>\n",
       "    <tr>\n",
       "      <th>30</th>\n",
       "      <td>Technique_Dark</td>\n",
       "      <td>1.104667</td>\n",
       "    </tr>\n",
       "    <tr>\n",
       "      <th>31</th>\n",
       "      <td>Technique_Fluidized bed</td>\n",
       "      <td>1.566373</td>\n",
       "    </tr>\n",
       "    <tr>\n",
       "      <th>32</th>\n",
       "      <td>Technique_MicroWave</td>\n",
       "      <td>1.330606</td>\n",
       "    </tr>\n",
       "    <tr>\n",
       "      <th>33</th>\n",
       "      <td>Technique_Open Sun</td>\n",
       "      <td>2.380324</td>\n",
       "    </tr>\n",
       "    <tr>\n",
       "      <th>34</th>\n",
       "      <td>Technique_Shade</td>\n",
       "      <td>1.104667</td>\n",
       "    </tr>\n",
       "    <tr>\n",
       "      <th>35</th>\n",
       "      <td>Pretreatment_Chemical</td>\n",
       "      <td>48.792064</td>\n",
       "    </tr>\n",
       "    <tr>\n",
       "      <th>36</th>\n",
       "      <td>Pretreatment_Cryogenic</td>\n",
       "      <td>2.478056</td>\n",
       "    </tr>\n",
       "    <tr>\n",
       "      <th>37</th>\n",
       "      <td>Pretreatment_Electric</td>\n",
       "      <td>1.175838</td>\n",
       "    </tr>\n",
       "    <tr>\n",
       "      <th>38</th>\n",
       "      <td>Pretreatment_Freezing</td>\n",
       "      <td>2517.844459</td>\n",
       "    </tr>\n",
       "    <tr>\n",
       "      <th>39</th>\n",
       "      <td>Pretreatment_Hot Air</td>\n",
       "      <td>7.244504</td>\n",
       "    </tr>\n",
       "    <tr>\n",
       "      <th>40</th>\n",
       "      <td>Pretreatment_Microwave</td>\n",
       "      <td>1.352510</td>\n",
       "    </tr>\n",
       "    <tr>\n",
       "      <th>41</th>\n",
       "      <td>Pretreatment_Ohmic</td>\n",
       "      <td>2.632557</td>\n",
       "    </tr>\n",
       "    <tr>\n",
       "      <th>42</th>\n",
       "      <td>Pretreatment_Physical</td>\n",
       "      <td>3.320170</td>\n",
       "    </tr>\n",
       "    <tr>\n",
       "      <th>43</th>\n",
       "      <td>Pretreatment_Plasma</td>\n",
       "      <td>5.206724</td>\n",
       "    </tr>\n",
       "    <tr>\n",
       "      <th>44</th>\n",
       "      <td>Pretreatment_Untreated</td>\n",
       "      <td>18.499042</td>\n",
       "    </tr>\n",
       "  </tbody>\n",
       "</table>\n",
       "</div>"
      ],
      "text/plain": [
       "                     column          VIF\n",
       "0                       Vel     8.459363\n",
       "1                      Temp    39.298243\n",
       "2                        RH     6.796098\n",
       "3                    P_temp     7.213549\n",
       "4                    P_time  2525.290203\n",
       "5            Variety_Asgari     3.296953\n",
       "6             Variety_Black     1.577612\n",
       "7        Variety_Centennial     1.351229\n",
       "8         Variety_Chasselas     1.171906\n",
       "9           Variety_Crimson     1.177173\n",
       "10          Variety_Delight     1.086024\n",
       "11          Variety_Emerald     1.150158\n",
       "12            Variety_Flame     1.552742\n",
       "13            Variety_Globe     1.490347\n",
       "14           Variety_Italia     1.422670\n",
       "15          Variety_Monukka     1.182518\n",
       "16         Variety_Monukka      1.265380\n",
       "17         Variety_Muscatel     1.903703\n",
       "18           Variety_Nevado     1.189761\n",
       "19         Variety_Perlette     1.249518\n",
       "20              Variety_Red     2.706177\n",
       "21             Variety_Rodi     1.090196\n",
       "22             Variety_Ruby     1.561684\n",
       "23           Variety_Seeded     1.644546\n",
       "24         Variety_Sugraone     2.275265\n",
       "25      Variety_Tempranillo     1.369632\n",
       "26          Variety_Thomson    10.227378\n",
       "27         Variety_Tunisian     1.191065\n",
       "28       Variety_Unreported     2.697088\n",
       "29     Technique_Convective    22.593933\n",
       "30           Technique_Dark     1.104667\n",
       "31  Technique_Fluidized bed     1.566373\n",
       "32      Technique_MicroWave     1.330606\n",
       "33       Technique_Open Sun     2.380324\n",
       "34          Technique_Shade     1.104667\n",
       "35    Pretreatment_Chemical    48.792064\n",
       "36   Pretreatment_Cryogenic     2.478056\n",
       "37    Pretreatment_Electric     1.175838\n",
       "38    Pretreatment_Freezing  2517.844459\n",
       "39     Pretreatment_Hot Air     7.244504\n",
       "40   Pretreatment_Microwave     1.352510\n",
       "41       Pretreatment_Ohmic     2.632557\n",
       "42    Pretreatment_Physical     3.320170\n",
       "43      Pretreatment_Plasma     5.206724\n",
       "44   Pretreatment_Untreated    18.499042"
      ]
     },
     "execution_count": 18,
     "metadata": {},
     "output_type": "execute_result"
    }
   ],
   "source": [
    "vif_factors = get_vif(X[X_features])\n",
    "vif_factors"
   ]
  },
  {
   "cell_type": "code",
   "execution_count": 19,
   "metadata": {},
   "outputs": [
    {
     "data": {
      "text/plain": [
       "0                        Vel\n",
       "1                       Temp\n",
       "2                         RH\n",
       "3                     P_temp\n",
       "4                     P_time\n",
       "26           Variety_Thomson\n",
       "29      Technique_Convective\n",
       "35     Pretreatment_Chemical\n",
       "38     Pretreatment_Freezing\n",
       "39      Pretreatment_Hot Air\n",
       "43       Pretreatment_Plasma\n",
       "44    Pretreatment_Untreated\n",
       "Name: column, dtype: object"
      ]
     },
     "execution_count": 19,
     "metadata": {},
     "output_type": "execute_result"
    }
   ],
   "source": [
    "columnns_with_large_vif = vif_factors[vif_factors.VIF > 4].column\n",
    "columnns_with_large_vif "
   ]
  },
  {
   "cell_type": "code",
   "execution_count": 21,
   "metadata": {},
   "outputs": [
    {
     "data": {
      "image/png": "[encoded data removed]",
      "text/plain": [
       "<Figure size 864x720 with 2 Axes>"
      ]
     },
     "metadata": {
      "needs_background": "light"
     },
     "output_type": "display_data"
    }
   ],
   "source": [
    "import seaborn as sn\n",
    "import matplotlib.pyplot as plt\n",
    "\n",
    "plt.figure(figsize=(12,10))\n",
    "sn.heatmap(X[columnns_with_large_vif].corr(), annot = True);"
   ]
  },
  {
   "cell_type": "code",
   "execution_count": 22,
   "metadata": {},
   "outputs": [],
   "source": [
    "features_to_be_removed = ['Pretreatment_Hot Air', 'RH','Pretreatment_Chemical', 'Pretreatment_Freezing', 'Technique_Convective']"
   ]
  },
  {
   "cell_type": "code",
   "execution_count": 23,
   "metadata": {},
   "outputs": [],
   "source": [
    "X_new_features = list(set(X_features) - set(features_to_be_removed))"
   ]
  },
  {
   "cell_type": "code",
   "execution_count": 24,
   "metadata": {},
   "outputs": [
    {
     "data": {
      "text/html": [
       "<div>\n",
       "<style scoped>\n",
       "    .dataframe tbody tr th:only-of-type {\n",
       "        vertical-align: middle;\n",
       "    }\n",
       "\n",
       "    .dataframe tbody tr th {\n",
       "        vertical-align: top;\n",
       "    }\n",
       "\n",
       "    .dataframe thead th {\n",
       "        text-align: right;\n",
       "    }\n",
       "</style>\n",
       "<table border=\"1\" class=\"dataframe\">\n",
       "  <thead>\n",
       "    <tr style=\"text-align: right;\">\n",
       "      <th></th>\n",
       "      <th>column</th>\n",
       "      <th>VIF</th>\n",
       "    </tr>\n",
       "  </thead>\n",
       "  <tbody>\n",
       "    <tr>\n",
       "      <th>0</th>\n",
       "      <td>Pretreatment_Ohmic</td>\n",
       "      <td>2.258499</td>\n",
       "    </tr>\n",
       "    <tr>\n",
       "      <th>1</th>\n",
       "      <td>Variety_Tempranillo</td>\n",
       "      <td>1.272951</td>\n",
       "    </tr>\n",
       "    <tr>\n",
       "      <th>2</th>\n",
       "      <td>Temp</td>\n",
       "      <td>11.320808</td>\n",
       "    </tr>\n",
       "    <tr>\n",
       "      <th>3</th>\n",
       "      <td>Variety_Italia</td>\n",
       "      <td>1.252013</td>\n",
       "    </tr>\n",
       "    <tr>\n",
       "      <th>4</th>\n",
       "      <td>Pretreatment_Cryogenic</td>\n",
       "      <td>2.094754</td>\n",
       "    </tr>\n",
       "    <tr>\n",
       "      <th>5</th>\n",
       "      <td>Variety_Red</td>\n",
       "      <td>2.670791</td>\n",
       "    </tr>\n",
       "    <tr>\n",
       "      <th>6</th>\n",
       "      <td>Variety_Globe</td>\n",
       "      <td>1.398018</td>\n",
       "    </tr>\n",
       "    <tr>\n",
       "      <th>7</th>\n",
       "      <td>Variety_Seeded</td>\n",
       "      <td>1.376477</td>\n",
       "    </tr>\n",
       "    <tr>\n",
       "      <th>8</th>\n",
       "      <td>Technique_MicroWave</td>\n",
       "      <td>1.029261</td>\n",
       "    </tr>\n",
       "    <tr>\n",
       "      <th>9</th>\n",
       "      <td>Variety_Tunisian</td>\n",
       "      <td>1.163879</td>\n",
       "    </tr>\n",
       "    <tr>\n",
       "      <th>10</th>\n",
       "      <td>P_temp</td>\n",
       "      <td>5.690982</td>\n",
       "    </tr>\n",
       "    <tr>\n",
       "      <th>11</th>\n",
       "      <td>Variety_Monukka</td>\n",
       "      <td>1.132011</td>\n",
       "    </tr>\n",
       "    <tr>\n",
       "      <th>12</th>\n",
       "      <td>Technique_Fluidized bed</td>\n",
       "      <td>1.228404</td>\n",
       "    </tr>\n",
       "    <tr>\n",
       "      <th>13</th>\n",
       "      <td>Variety_Black</td>\n",
       "      <td>1.308637</td>\n",
       "    </tr>\n",
       "    <tr>\n",
       "      <th>14</th>\n",
       "      <td>Pretreatment_Untreated</td>\n",
       "      <td>1.916983</td>\n",
       "    </tr>\n",
       "    <tr>\n",
       "      <th>15</th>\n",
       "      <td>Variety_Unreported</td>\n",
       "      <td>2.317050</td>\n",
       "    </tr>\n",
       "    <tr>\n",
       "      <th>16</th>\n",
       "      <td>P_time</td>\n",
       "      <td>1.078833</td>\n",
       "    </tr>\n",
       "    <tr>\n",
       "      <th>17</th>\n",
       "      <td>Variety_Centennial</td>\n",
       "      <td>1.081185</td>\n",
       "    </tr>\n",
       "    <tr>\n",
       "      <th>18</th>\n",
       "      <td>Pretreatment_Microwave</td>\n",
       "      <td>1.069957</td>\n",
       "    </tr>\n",
       "    <tr>\n",
       "      <th>19</th>\n",
       "      <td>Variety_Perlette</td>\n",
       "      <td>1.230060</td>\n",
       "    </tr>\n",
       "    <tr>\n",
       "      <th>20</th>\n",
       "      <td>Variety_Crimson</td>\n",
       "      <td>1.060590</td>\n",
       "    </tr>\n",
       "    <tr>\n",
       "      <th>21</th>\n",
       "      <td>Technique_Dark</td>\n",
       "      <td>1.019037</td>\n",
       "    </tr>\n",
       "    <tr>\n",
       "      <th>22</th>\n",
       "      <td>Pretreatment_Electric</td>\n",
       "      <td>1.044653</td>\n",
       "    </tr>\n",
       "    <tr>\n",
       "      <th>23</th>\n",
       "      <td>Variety_Ruby</td>\n",
       "      <td>1.263329</td>\n",
       "    </tr>\n",
       "    <tr>\n",
       "      <th>24</th>\n",
       "      <td>Variety_Flame</td>\n",
       "      <td>1.459305</td>\n",
       "    </tr>\n",
       "    <tr>\n",
       "      <th>25</th>\n",
       "      <td>Vel</td>\n",
       "      <td>2.409114</td>\n",
       "    </tr>\n",
       "    <tr>\n",
       "      <th>26</th>\n",
       "      <td>Technique_Open Sun</td>\n",
       "      <td>1.375373</td>\n",
       "    </tr>\n",
       "    <tr>\n",
       "      <th>27</th>\n",
       "      <td>Variety_Thomson</td>\n",
       "      <td>7.317026</td>\n",
       "    </tr>\n",
       "    <tr>\n",
       "      <th>28</th>\n",
       "      <td>Variety_Asgari</td>\n",
       "      <td>3.242674</td>\n",
       "    </tr>\n",
       "    <tr>\n",
       "      <th>29</th>\n",
       "      <td>Variety_Delight</td>\n",
       "      <td>1.052726</td>\n",
       "    </tr>\n",
       "    <tr>\n",
       "      <th>30</th>\n",
       "      <td>Variety_Nevado</td>\n",
       "      <td>1.098091</td>\n",
       "    </tr>\n",
       "    <tr>\n",
       "      <th>31</th>\n",
       "      <td>Pretreatment_Plasma</td>\n",
       "      <td>4.027996</td>\n",
       "    </tr>\n",
       "    <tr>\n",
       "      <th>32</th>\n",
       "      <td>Variety_Sugraone</td>\n",
       "      <td>2.191010</td>\n",
       "    </tr>\n",
       "    <tr>\n",
       "      <th>33</th>\n",
       "      <td>Variety_Muscatel</td>\n",
       "      <td>1.686020</td>\n",
       "    </tr>\n",
       "    <tr>\n",
       "      <th>34</th>\n",
       "      <td>Variety_Rodi</td>\n",
       "      <td>1.054039</td>\n",
       "    </tr>\n",
       "    <tr>\n",
       "      <th>35</th>\n",
       "      <td>Technique_Shade</td>\n",
       "      <td>1.019037</td>\n",
       "    </tr>\n",
       "    <tr>\n",
       "      <th>36</th>\n",
       "      <td>Variety_Monukka</td>\n",
       "      <td>1.201168</td>\n",
       "    </tr>\n",
       "    <tr>\n",
       "      <th>37</th>\n",
       "      <td>Variety_Chasselas</td>\n",
       "      <td>1.147743</td>\n",
       "    </tr>\n",
       "    <tr>\n",
       "      <th>38</th>\n",
       "      <td>Pretreatment_Physical</td>\n",
       "      <td>1.599272</td>\n",
       "    </tr>\n",
       "    <tr>\n",
       "      <th>39</th>\n",
       "      <td>Variety_Emerald</td>\n",
       "      <td>1.100053</td>\n",
       "    </tr>\n",
       "  </tbody>\n",
       "</table>\n",
       "</div>"
      ],
      "text/plain": [
       "                     column        VIF\n",
       "0        Pretreatment_Ohmic   2.258499\n",
       "1       Variety_Tempranillo   1.272951\n",
       "2                      Temp  11.320808\n",
       "3            Variety_Italia   1.252013\n",
       "4    Pretreatment_Cryogenic   2.094754\n",
       "5               Variety_Red   2.670791\n",
       "6             Variety_Globe   1.398018\n",
       "7            Variety_Seeded   1.376477\n",
       "8       Technique_MicroWave   1.029261\n",
       "9          Variety_Tunisian   1.163879\n",
       "10                   P_temp   5.690982\n",
       "11          Variety_Monukka   1.132011\n",
       "12  Technique_Fluidized bed   1.228404\n",
       "13            Variety_Black   1.308637\n",
       "14   Pretreatment_Untreated   1.916983\n",
       "15       Variety_Unreported   2.317050\n",
       "16                   P_time   1.078833\n",
       "17       Variety_Centennial   1.081185\n",
       "18   Pretreatment_Microwave   1.069957\n",
       "19         Variety_Perlette   1.230060\n",
       "20          Variety_Crimson   1.060590\n",
       "21           Technique_Dark   1.019037\n",
       "22    Pretreatment_Electric   1.044653\n",
       "23             Variety_Ruby   1.263329\n",
       "24            Variety_Flame   1.459305\n",
       "25                      Vel   2.409114\n",
       "26       Technique_Open Sun   1.375373\n",
       "27          Variety_Thomson   7.317026\n",
       "28           Variety_Asgari   3.242674\n",
       "29          Variety_Delight   1.052726\n",
       "30           Variety_Nevado   1.098091\n",
       "31      Pretreatment_Plasma   4.027996\n",
       "32         Variety_Sugraone   2.191010\n",
       "33         Variety_Muscatel   1.686020\n",
       "34             Variety_Rodi   1.054039\n",
       "35          Technique_Shade   1.019037\n",
       "36         Variety_Monukka    1.201168\n",
       "37        Variety_Chasselas   1.147743\n",
       "38    Pretreatment_Physical   1.599272\n",
       "39          Variety_Emerald   1.100053"
      ]
     },
     "execution_count": 24,
     "metadata": {},
     "output_type": "execute_result"
    }
   ],
   "source": [
    "get_vif(X[X_new_features])"
   ]
  },
  {
   "cell_type": "code",
   "execution_count": 27,
   "metadata": {},
   "outputs": [
    {
     "name": "stdout",
     "output_type": "stream",
     "text": [
      "                        Results: Ordinary least squares\n",
      "===============================================================================\n",
      "Model:                  OLS              Adj. R-squared (uncentered): 0.715    \n",
      "Dependent Variable:     hours            AIC:                         5322.1956\n",
      "Date:                   2022-11-25 22:30 BIC:                         5486.2084\n",
      "No. Observations:       446              Log-Likelihood:              -2621.1  \n",
      "Df Model:               40               F-statistic:                 28.92    \n",
      "Df Residuals:           406              Prob (F-statistic):          7.00e-95 \n",
      "R-squared (uncentered): 0.740            Scale:                       8183.6   \n",
      "-------------------------------------------------------------------------------\n",
      "                             Coef.   Std.Err.    t    P>|t|    [0.025   0.975] \n",
      "-------------------------------------------------------------------------------\n",
      "Pretreatment_Ohmic           42.1090  87.0179  0.4839 0.6287 -128.9529 213.1709\n",
      "Variety_Tempranillo          46.1971  50.2310  0.9197 0.3583  -52.5482 144.9424\n",
      "Temp                         -0.4661   0.2685 -1.7357 0.0834   -0.9939   0.0618\n",
      "Variety_Italia              174.4050  30.2917  5.7575 0.0000  114.8568 233.9533\n",
      "Pretreatment_Cryogenic      230.9161  80.8162  2.8573 0.0045   72.0457 389.7864\n",
      "Variety_Red                  14.6432  61.4796  0.2382 0.8119 -106.2148 135.5012\n",
      "Variety_Globe                94.7453  35.2887  2.6849 0.0076   25.3738 164.1167\n",
      "Variety_Seeded              130.1379  29.3181  4.4388 0.0000   72.5036 187.7721\n",
      "Technique_MicroWave         -31.4643  37.6128 -0.8365 0.4033 -105.4045  42.4759\n",
      "Variety_Tunisian             -7.8752  44.7992 -0.1758 0.8605  -95.9426  80.1921\n",
      "P_temp                        0.6550   0.2280  2.8722 0.0043    0.2067   1.1033\n",
      "Variety_Monukka             235.9692  43.9862  5.3646 0.0000  149.5002 322.4383\n",
      "Technique_Fluidized bed     -36.7013  35.5490 -1.0324 0.3025 -106.5843  33.1817\n",
      "Variety_Black                23.4136  37.5083  0.6242 0.5328  -50.3210  97.1483\n",
      "Pretreatment_Untreated       63.3624  11.8067  5.3666 0.0000   40.1525  86.5723\n",
      "Variety_Unreported          -15.0411  25.4683 -0.5906 0.5551  -65.1074  35.0251\n",
      "P_time                        0.0014   0.0011  1.2623 0.2076   -0.0008   0.0035\n",
      "Variety_Centennial          365.0729  47.6404  7.6631 0.0000  271.4203 458.7255\n",
      "Pretreatment_Microwave     -108.0503  92.0323 -1.1740 0.2411 -288.9697  72.8690\n",
      "Variety_Perlette              1.9848  59.5472  0.0333 0.9734 -115.0747 119.0442\n",
      "Variety_Crimson             387.0136  53.7217  7.2040 0.0000  281.4062 492.6210\n",
      "Technique_Dark              616.5025  64.7221  9.5254 0.0000  489.2703 743.7347\n",
      "Pretreatment_Electric        46.9173  92.7676  0.5058 0.6133 -135.4475 229.2821\n",
      "Variety_Ruby                106.8147  31.6733  3.3724 0.0008   44.5507 169.0788\n",
      "Variety_Flame                 2.0825  37.1137  0.0561 0.9553  -70.8765  75.0415\n",
      "Vel                          -6.6384   2.3182 -2.8636 0.0044  -11.1956  -2.0813\n",
      "Technique_Open Sun          217.2587  18.1565 11.9659 0.0000  181.5663 252.9512\n",
      "Variety_Thomson              53.9673  16.2815  3.3146 0.0010   21.9608  85.9738\n",
      "Variety_Asgari               18.5046  82.9108  0.2232 0.8235 -144.4835 181.4927\n",
      "Variety_Delight             -86.3927  93.3998 -0.9250 0.3555 -270.0003  97.2148\n",
      "Variety_Nevado               35.8234  55.5476  0.6449 0.5193  -73.3734 145.0203\n",
      "Pretreatment_Plasma          38.9949  70.5240  0.5529 0.5806  -99.6428 177.6326\n",
      "Variety_Sugraone             41.4122  56.9743  0.7269 0.4677  -70.5893 153.4136\n",
      "Variety_Muscatel             71.8815  24.7433  2.9051 0.0039   23.2404 120.5225\n",
      "Variety_Rodi                 13.0774  66.2342  0.1974 0.8436 -117.1273 143.2821\n",
      "Technique_Shade             843.5025  64.7221 13.0327 0.0000  716.2703 970.7347\n",
      "Variety_Monukka              15.6150  66.6969  0.2341 0.8150 -115.4994 146.7293\n",
      "Variety_Chasselas             0.8466  57.2105  0.0148 0.9882 -111.6191 113.3124\n",
      "Pretreatment_Physical        17.6268  34.0690  0.5174 0.6052  -49.3469  84.6005\n",
      "Variety_Emerald              70.6969  68.2115  1.0364 0.3006  -63.3948 204.7887\n",
      "-------------------------------------------------------------------------------\n",
      "Omnibus:                 251.729           Durbin-Watson:              1.888   \n",
      "Prob(Omnibus):           0.000             Jarque-Bera (JB):           2172.657\n",
      "Skew:                    2.310             Prob(JB):                   0.000   \n",
      "Kurtosis:                12.776            Condition No.:              114475  \n",
      "===============================================================================\n",
      "* The condition number is large (1e+05). This might indicate             strong\n",
      "multicollinearity or other numerical problems.\n"
     ]
    }
   ],
   "source": [
    "X_train = X_train[X_new_features]\n",
    "model_2 = sm.OLS(y_train, X_train).fit()\n",
    "print(model_2.summary2())"
   ]
  },
  {
   "cell_type": "code",
   "execution_count": 28,
   "metadata": {},
   "outputs": [],
   "source": [
    "significant_variables = ['Vel', 'Variety_Thomson', 'Variety_Muscatel', 'Technique_Open Sun', 'Variety_Globe', 'Variety_Crimson',\n",
    "                         'Variety_Centennial', 'Technique_Shade', 'Variety_Monukka', 'Pretreatment_Untreated', 'Variety_Seeded',\n",
    "                         'Technique_Dark', 'Variety_Ruby', 'Temp', 'P_temp', 'Variety_Italia']\n",
    "\n",
    "significant_variables_2 = ['Vel', 'Variety_Thomson', 'Variety_Muscatel', 'Technique_Open Sun', 'Variety_Globe', 'Variety_Crimson',\n",
    "                         'Variety_Centennial', 'Technique_Shade', 'Variety_Monukka', 'Pretreatment_Untreated', 'Variety_Seeded',\n",
    "                         'Technique_Dark', 'Variety_Ruby', 'Variety_Italia']"
   ]
  },
  {
   "cell_type": "code",
   "execution_count": 29,
   "metadata": {},
   "outputs": [
    {
     "name": "stdout",
     "output_type": "stream",
     "text": [
      "                        Results: Ordinary least squares\n",
      "===============================================================================\n",
      "Model:                  OLS              Adj. R-squared (uncentered): 0.716    \n",
      "Dependent Variable:     hours            AIC:                         5295.9158\n",
      "Date:                   2022-11-25 22:31 BIC:                         5353.3203\n",
      "No. Observations:       446              Log-Likelihood:              -2634.0  \n",
      "Df Model:               14               F-statistic:                 81.27    \n",
      "Df Residuals:           432              Prob (F-statistic):          2.08e-111\n",
      "R-squared (uncentered): 0.725            Scale:                       8147.7   \n",
      "--------------------------------------------------------------------------------\n",
      "                          Coef.    Std.Err.     t     P>|t|    [0.025    0.975] \n",
      "--------------------------------------------------------------------------------\n",
      "Vel                       -3.2036    1.8215  -1.7588  0.0793   -6.7836    0.3764\n",
      "Variety_Thomson           48.1164    7.0737   6.8021  0.0000   34.2132   62.0196\n",
      "Variety_Muscatel          58.7309   19.8190   2.9634  0.0032   19.7772   97.6846\n",
      "Technique_Open Sun       227.8890   15.9214  14.3134  0.0000  196.5960  259.1821\n",
      "Variety_Globe             87.6518   28.9470   3.0280  0.0026   30.7573  144.5464\n",
      "Variety_Crimson          382.3204   52.1145   7.3362  0.0000  279.8908  484.7499\n",
      "Variety_Centennial       370.3644   45.9823   8.0545  0.0000  279.9876  460.7412\n",
      "Technique_Shade          858.8882   64.2616  13.3655  0.0000  732.5839  985.1925\n",
      "Variety_Monukka          233.4493   41.5931   5.6127  0.0000  151.6993  315.1994\n",
      "Pretreatment_Untreated    52.0549    9.5929   5.4264  0.0000   33.2004   70.9094\n",
      "Variety_Seeded           116.6630   25.1342   4.6416  0.0000   67.2625  166.0634\n",
      "Technique_Dark           631.8882   64.2616   9.8331  0.0000  505.5839  758.1925\n",
      "Variety_Ruby              98.9049   28.6538   3.4517  0.0006   42.5866  155.2232\n",
      "Variety_Italia           179.5823   26.2018   6.8538  0.0000  128.0835  231.0811\n",
      "-------------------------------------------------------------------------------\n",
      "Omnibus:                 243.714           Durbin-Watson:              1.891   \n",
      "Prob(Omnibus):           0.000             Jarque-Bera (JB):           2015.242\n",
      "Skew:                    2.231             Prob(JB):                   0.000   \n",
      "Kurtosis:                12.409            Condition No.:              43      \n",
      "===============================================================================\n",
      "\n"
     ]
    }
   ],
   "source": [
    "X_train = X_train[significant_variables_2]\n",
    "model_3 = sm.OLS(y_train, X_train).fit()\n",
    "print(model_3.summary2())"
   ]
  },
  {
   "cell_type": "markdown",
   "metadata": {},
   "source": [
    "#### Residual Analysis for MLR"
   ]
  },
  {
   "cell_type": "markdown",
   "metadata": {},
   "source": [
    "##### Normality Test"
   ]
  },
  {
   "cell_type": "code",
   "execution_count": 45,
   "metadata": {},
   "outputs": [],
   "source": [
    "\n",
    "\n",
    "def draw_pp_plot(model, title):\n",
    "    probplot = sm.ProbPlot(model.resid);\n",
    "    plt.figure(figsize=(8,6));\n",
    "    probplot.ppplot(line='45');\n",
    "    plt.title(title);\n",
    "    plt.show();"
   ]
  },
  {
   "cell_type": "code",
   "execution_count": 49,
   "metadata": {},
   "outputs": [
    {
     "name": "stderr",
     "output_type": "stream",
     "text": [
      "c:\\Users\\ameya\\anaconda3\\lib\\site-packages\\statsmodels\\graphics\\gofplots.py:993: UserWarning: marker is redundantly defined by the 'marker' keyword argument and the fmt string \"bo\" (-> marker='o'). The keyword argument will take precedence.\n",
      "  ax.plot(x, y, fmt, **plot_style)\n"
     ]
    },
    {
     "data": {
      "text/plain": [
       "<Figure size 576x432 with 0 Axes>"
      ]
     },
     "metadata": {},
     "output_type": "display_data"
    },
    {
     "data": {
      "image/png": "[encoded data removed]",
      "text/plain": [
       "<Figure size 432x288 with 1 Axes>"
      ]
     },
     "metadata": {
      "needs_background": "light"
     },
     "output_type": "display_data"
    }
   ],
   "source": [
    "draw_pp_plot(model_3, 'Model_1');"
   ]
  },
  {
   "cell_type": "markdown",
   "metadata": {},
   "source": [
    "##### Homoscedasticity Test"
   ]
  },
  {
   "cell_type": "code",
   "execution_count": 53,
   "metadata": {},
   "outputs": [],
   "source": [
    "def get_standardized_values( vals ):\n",
    "    return (vals - vals.mean())/vals.std()\n",
    "\n",
    "def plot_resid_fitted (fitted, resid, title):\n",
    "    plt.scatter(get_standardized_values(fitted),\n",
    "                get_standardized_values(resid)\n",
    "               );               \n",
    "    plt.title(title); plt.grid(True)\n",
    "    plt.xlabel(\"Predicted\"); plt.ylabel(\"Residual\");\n",
    "    plt.show();"
   ]
  },
  {
   "cell_type": "code",
   "execution_count": 54,
   "metadata": {},
   "outputs": [
    {
     "data": {
      "image/png": "[encoded data removed]",
      "text/plain": [
       "<Figure size 432x288 with 1 Axes>"
      ]
     },
     "metadata": {
      "needs_background": "light"
     },
     "output_type": "display_data"
    }
   ],
   "source": [
    "plot_resid_fitted(model_3.fittedvalues,\n",
    "                  model_3.resid,\n",
    "                  'Residual Plot')"
   ]
  },
  {
   "cell_type": "code",
   "execution_count": null,
   "metadata": {},
   "outputs": [],
   "source": []
  }
 ],
 "metadata": {
  "kernelspec": {
   "display_name": "Python 3.8.8 ('base')",
   "language": "python",
   "name": "python3"
  },
  "language_info": {
   "codemirror_mode": {
    "name": "ipython",
    "version": 3
   },
   "file_extension": ".py",
   "mimetype": "text/x-python",
   "name": "python",
   "nbconvert_exporter": "python",
   "pygments_lexer": "ipython3",
   "version": "3.8.8"
  },
  "orig_nbformat": 4,
  "vscode": {
   "interpreter": {
    "hash": "38ea928d456bdec63e5dd5f432d32da5c163b9318090e425cd81ade89acae8e9"
   }
  }
 },
 "nbformat": 4,
 "nbformat_minor": 2
}
